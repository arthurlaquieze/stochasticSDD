{
  "cells": [
    {
      "cell_type": "markdown",
      "id": "d8823f9d",
      "metadata": {
        "id": "d8823f9d"
      },
      "source": [
        "# Project - Market Day\n",
        "\n",
        "<a rel=\"license\" href=\"http://creativecommons.org/licenses/by-sa/4.0/\"><img alt=\"Creative Commons License\" align=\"left\" src=\"https://i.creativecommons.org/l/by-sa/4.0/80x15.png\" /></a>&nbsp;| Dennis G. Wilson | <a href=\"https://supaerodatascience.github.io/stochastic/\">https://supaerodatascience.github.io/stochastic/</a>\n"
      ]
    },
    {
      "cell_type": "markdown",
      "id": "e6452934",
      "metadata": {
        "id": "e6452934"
      },
      "source": [
        "![Stardew Valley](https://venturebeat.com/wp-content/uploads/2018/01/sw7rtba7p1xs77klsime.png)\n"
      ]
    },
    {
      "cell_type": "markdown",
      "id": "68359e75",
      "metadata": {
        "id": "68359e75"
      },
      "source": [
        "It is Market Day! You've been working hard for a whole season, planting, watering, and taking care of crops. Now it is time to sell them in town. Just one problem though - your old truck can only carry so much weight. Which crops should you bring to maximize your profits?\n"
      ]
    },
    {
      "cell_type": "markdown",
      "id": "fa661645",
      "metadata": {
        "id": "fa661645"
      },
      "source": [
        "In this project, you will use a stochastic algorithm of your choice to find the best crop configuration you can load into your truck. You know how much stock you have of each crop, how much each crop weighs, and what price it will fetch at the market. You should use these values throughout the project.\n"
      ]
    },
    {
      "cell_type": "markdown",
      "id": "459e3e1a",
      "metadata": {
        "id": "459e3e1a"
      },
      "source": [
        "Before we start, if you're using colab to run this notebook, you'll need to uncomment and run the following lines:\n"
      ]
    },
    {
      "cell_type": "code",
      "execution_count": 66,
      "id": "3fd3c7cf",
      "metadata": {
        "id": "3fd3c7cf"
      },
      "outputs": [],
      "source": [
        "from typing import Dict, List, Callable\n",
        "\n",
        "import matplotlib.pyplot as plt\n",
        "import numpy as np\n",
        "import numpy.typing as npt\n",
        "import pandas as pd"
      ]
    },
    {
      "cell_type": "code",
      "execution_count": 81,
      "id": "ec07b3a7",
      "metadata": {},
      "outputs": [],
      "source": [
        "class CountCalls: \n",
        "    def __init__(self, func): \n",
        "        self._count = 0 \n",
        "        self._func = func \n",
        "    def __call__( self, *args, **kwargs): \n",
        "        self._count += 1 \n",
        "        return self._func(*args,**kwargs) \n",
        "    @property \n",
        "    def call_count(self): \n",
        "        return self._count \n",
        "    \n",
        "    def reset_count(self):\n",
        "        self._count = 0\n"
      ]
    },
    {
      "cell_type": "code",
      "execution_count": 2,
      "id": "1c3d4f41",
      "metadata": {},
      "outputs": [
        {
          "data": {
            "text/html": [
              "<div>\n",
              "<style scoped>\n",
              "    .dataframe tbody tr th:only-of-type {\n",
              "        vertical-align: middle;\n",
              "    }\n",
              "\n",
              "    .dataframe tbody tr th {\n",
              "        vertical-align: top;\n",
              "    }\n",
              "\n",
              "    .dataframe thead th {\n",
              "        text-align: right;\n",
              "    }\n",
              "</style>\n",
              "<table border=\"1\" class=\"dataframe\">\n",
              "  <thead>\n",
              "    <tr style=\"text-align: right;\">\n",
              "      <th></th>\n",
              "      <th>stock</th>\n",
              "      <th>weight</th>\n",
              "      <th>price_A</th>\n",
              "      <th>price_B</th>\n",
              "      <th>price_C</th>\n",
              "    </tr>\n",
              "  </thead>\n",
              "  <tbody>\n",
              "    <tr>\n",
              "      <th>Apple</th>\n",
              "      <td>5</td>\n",
              "      <td>5</td>\n",
              "      <td>1.00</td>\n",
              "      <td>0.5</td>\n",
              "      <td>1.1</td>\n",
              "    </tr>\n",
              "    <tr>\n",
              "      <th>Apricot</th>\n",
              "      <td>65</td>\n",
              "      <td>3</td>\n",
              "      <td>0.50</td>\n",
              "      <td>0.2</td>\n",
              "      <td>0.6</td>\n",
              "    </tr>\n",
              "    <tr>\n",
              "      <th>Blueberry</th>\n",
              "      <td>5</td>\n",
              "      <td>3</td>\n",
              "      <td>0.50</td>\n",
              "      <td>0.3</td>\n",
              "      <td>1.2</td>\n",
              "    </tr>\n",
              "    <tr>\n",
              "      <th>Cactus Fruit</th>\n",
              "      <td>90</td>\n",
              "      <td>4</td>\n",
              "      <td>0.75</td>\n",
              "      <td>0.3</td>\n",
              "      <td>0.3</td>\n",
              "    </tr>\n",
              "    <tr>\n",
              "      <th>Cherry</th>\n",
              "      <td>15</td>\n",
              "      <td>4</td>\n",
              "      <td>0.80</td>\n",
              "      <td>0.4</td>\n",
              "      <td>1.1</td>\n",
              "    </tr>\n",
              "  </tbody>\n",
              "</table>\n",
              "</div>"
            ],
            "text/plain": [
              "              stock  weight  price_A  price_B  price_C\n",
              "Apple             5       5     1.00      0.5      1.1\n",
              "Apricot          65       3     0.50      0.2      0.6\n",
              "Blueberry         5       3     0.50      0.3      1.2\n",
              "Cactus Fruit     90       4     0.75      0.3      0.3\n",
              "Cherry           15       4     0.80      0.4      1.1"
            ]
          },
          "execution_count": 2,
          "metadata": {},
          "output_type": "execute_result"
        }
      ],
      "source": [
        "df = pd.read_csv(\"market.csv\", index_col=0)\n",
        "df.head()\n"
      ]
    },
    {
      "cell_type": "code",
      "execution_count": 3,
      "id": "614d7ba3",
      "metadata": {
        "id": "614d7ba3"
      },
      "outputs": [],
      "source": [
        "stock = df[\"stock\"].to_dict()\n",
        "weight = df[\"weight\"].to_dict()\n",
        "price = df[\"price_A\"].to_dict()\n"
      ]
    },
    {
      "cell_type": "markdown",
      "id": "91c0dc4b",
      "metadata": {},
      "source": [
        "To evaluate your possible load going to the market, we will use a function that takes in a dictionary of this type, specifying how many of each crop you will take. This function will take into the constraints of having enough stock of the crop type and of not surpassing the weight limit.\n"
      ]
    },
    {
      "cell_type": "code",
      "execution_count": 82,
      "id": "587b7af3",
      "metadata": {
        "id": "587b7af3"
      },
      "outputs": [],
      "source": [
        "@CountCalls\n",
        "def evaluate(\n",
        "    load: Dict[str, int],\n",
        "    stock: Dict[str, int],\n",
        "    weight: Dict[str, int],\n",
        "    price: Dict[str, int],\n",
        "    max_weight=5000,\n",
        "):\n",
        "    total_weight = 0\n",
        "    total_price = 0\n",
        "    for k in load:\n",
        "        if load[k] <= stock[k]:\n",
        "            total_price += load[k] * price[k]\n",
        "            total_weight += load[k] * weight[k]\n",
        "            if total_weight > max_weight:\n",
        "                return 0\n",
        "        else:\n",
        "            return 0\n",
        "    return total_price\n"
      ]
    },
    {
      "cell_type": "markdown",
      "id": "f832b811",
      "metadata": {
        "id": "f832b811"
      },
      "source": [
        "You can try this with an example load generated randomly:\n"
      ]
    },
    {
      "cell_type": "code",
      "execution_count": 5,
      "id": "8223f09c",
      "metadata": {},
      "outputs": [
        {
          "name": "stdout",
          "output_type": "stream",
          "text": [
            "total_weight=4375\n"
          ]
        },
        {
          "data": {
            "text/plain": [
              "701.85"
            ]
          },
          "execution_count": 5,
          "metadata": {},
          "output_type": "execute_result"
        }
      ],
      "source": [
        "trial_load = {}\n",
        "for k in stock:\n",
        "    trial_load[k] = np.random.randint(0, stock[k])\n",
        "\n",
        "\n",
        "total_weight = 0\n",
        "for k in trial_load:\n",
        "    if trial_load[k] <= stock[k]:\n",
        "        total_weight += trial_load[k] * weight[k]\n",
        "print(f\"{total_weight=}\")\n",
        "\n",
        "evaluate(trial_load, stock, weight, price, 5000)\n"
      ]
    },
    {
      "cell_type": "code",
      "execution_count": 63,
      "id": "e9538ac0",
      "metadata": {},
      "outputs": [
        {
          "data": {
            "text/plain": [
              "5.0"
            ]
          },
          "execution_count": 63,
          "metadata": {},
          "output_type": "execute_result"
        }
      ],
      "source": [
        "evaluate({\"Apricot\": 10}, stock, weight, price)\n"
      ]
    },
    {
      "cell_type": "markdown",
      "id": "b49edb3c",
      "metadata": {
        "id": "b49edb3c"
      },
      "source": [
        "## Challenge 1\n",
        "\n",
        "Use a stochastic algorithm to find the configuration of crops that maximizes profit while respecting the constraints of the weight limit and stock. You can use any of the class code or a library like `pymoo`. You should create a reasonable representation for the problem and appropriate modification functions like mutation and crossover. You can also modify the evaluation function, as long as your final solution is valid according to the weight and stock constraints.\n",
        "\n",
        "Include your code for optimization, any visualizations of the optimization process, as well as code to show the final market load and profit gained. Can you beat the random trial load profits?\n",
        "\n",
        "Hint: this is a constrained case of the [knapsack problem](https://en.wikipedia.org/wiki/Knapsack_problem)\n"
      ]
    },
    {
      "cell_type": "code",
      "execution_count": 65,
      "id": "48c0460f",
      "metadata": {},
      "outputs": [],
      "source": [
        "def get_random_load(stock):\n",
        "    \"\"\"util function to generate a random load matching provided available stock\"\"\"\n",
        "    load = {}\n",
        "    for k in stock:\n",
        "        load[k] = np.random.randint(0, stock[k])\n",
        "    return load\n"
      ]
    },
    {
      "cell_type": "markdown",
      "id": "0d4f84fb",
      "metadata": {},
      "source": [
        "# random search method"
      ]
    },
    {
      "cell_type": "code",
      "execution_count": 83,
      "id": "1d363e65",
      "metadata": {},
      "outputs": [],
      "source": [
        "def random_search(n_steps, stock, weight, price, evaluate: Callable, max_weight=5000):\n",
        "    \"\"\"function to perform a random search to maximise objective evaluate\"\"\"\n",
        "    best_score = 0\n",
        "    best_load = {}\n",
        "    scores = np.empty(n_steps)\n",
        "    evaluate.reset_count()\n",
        "\n",
        "    for i in range(n_steps):\n",
        "        random_load = get_random_load(stock)\n",
        "        score = evaluate(random_load, stock, weight, price, max_weight)\n",
        "        if score > best_score:\n",
        "            best_score = score\n",
        "            best_load = random_load\n",
        "        scores[i] = best_score\n",
        "    return best_load, best_score, scores\n"
      ]
    },
    {
      "cell_type": "code",
      "execution_count": 88,
      "id": "745092af",
      "metadata": {},
      "outputs": [
        {
          "name": "stdout",
          "output_type": "stream",
          "text": [
            "obtained a load priced 961.00 with 100000 evaluations of objective\n"
          ]
        },
        {
          "data": {
            "image/png": "[encoded data removed]",
            "text/plain": [
              "<Figure size 640x480 with 1 Axes>"
            ]
          },
          "metadata": {},
          "output_type": "display_data"
        }
      ],
      "source": [
        "_, best_price, scores = random_search(100000, stock, weight, price, evaluate, 5000)\n",
        "print(f\"obtained a load priced {best_price:.2f} with {evaluate.call_count} evaluations of objective\")\n",
        "## best result yet : 981.55 with 100k iterations in ~5s\n",
        "\n",
        "plt.plot(scores)\n",
        "plt.xscale('log')"
      ]
    },
    {
      "cell_type": "markdown",
      "id": "f20cb87f",
      "metadata": {},
      "source": [
        "The results of random search are not that good. It takes *a lot* of evaluations to get a good result.\n",
        "\n",
        "**We will try to use another method: genetic algorithm** to improve our results"
      ]
    },
    {
      "cell_type": "code",
      "execution_count": 71,
      "id": "517aaf20",
      "metadata": {},
      "outputs": [],
      "source": [
        "def mutate(load: Dict[str, int], stock: Dict[str, int], proba=0.1):\n",
        "    \"\"\"\n",
        "    permet d'avoir un chargement voisin qui respecte le stock\n",
        "    ne modifie pas load, renvoie une nouvelle instance\n",
        "\n",
        "    pour chaque culture ajoute + ou - 1 avec une probabilité proba,\n",
        "    par défaut 10%, soit 5% pour +1 et 5% pour -1\n",
        "    \"\"\"\n",
        "    new_load = load.copy()\n",
        "\n",
        "    probas = np.random.rand(len(new_load.keys()))\n",
        "    for idx, k in enumerate(new_load.keys()):\n",
        "        if probas[idx] < proba / 2:\n",
        "            # check if we can add 1 and still respect max load\n",
        "            if stock[k] >= load[k] + 1:\n",
        "                new_load[k] = load[k] + 1\n",
        "        elif probas[idx] < proba:\n",
        "            # check if we can subtract 1 and not be under 0\n",
        "            if load[k] >= 0 + 1:\n",
        "                new_load[k] = load[k] - 1\n",
        "\n",
        "    return new_load\n"
      ]
    },
    {
      "cell_type": "code",
      "execution_count": 79,
      "id": "20aa12d5",
      "metadata": {},
      "outputs": [
        {
          "name": "stdout",
          "output_type": "stream",
          "text": [
            "change to Pomegranate load from 1 to 0\n",
            "change to Pumpkin load from 12 to 13\n",
            "change to Red Cabbage load from 20 to 21\n"
          ]
        }
      ],
      "source": [
        "# example of what mutate changes in one load.\n",
        "# In average it should change len(load)/proba (3.5) crop loads \n",
        "# (a little less in truth due to constraints on min/max values)\n",
        "\n",
        "load = get_random_load(stock)\n",
        "new_load = mutate(load, stock)\n",
        "\n",
        "for k in load:\n",
        "    if load[k] != new_load[k]:\n",
        "        print(f\"change to {k} load from {load[k]} to {new_load[k]}\")\n"
      ]
    },
    {
      "cell_type": "code",
      "execution_count": 89,
      "id": "dd49e4d2",
      "metadata": {},
      "outputs": [],
      "source": [
        "def crossover(load1: Dict[str, int], load2: Dict[str, int]) -> Dict[str, int]:\n",
        "    \"\"\"\n",
        "    crossover entre deux stocks\n",
        "\n",
        "    prend aléatoirement (p=0.5) le chargement de load1 ou load2 pour chaque culture\n",
        "    \"\"\"\n",
        "    child = {}\n",
        "    probas = np.random.rand(len(new_load.keys()))\n",
        "\n",
        "    for idx, k in enumerate(load1.keys()):\n",
        "        if probas[idx] > 0.5:\n",
        "            child[k] = load1[k]\n",
        "        else:\n",
        "            child[k] = load2[k]\n",
        "\n",
        "    return child\n"
      ]
    },
    {
      "cell_type": "code",
      "execution_count": 92,
      "id": "45acd3d1",
      "metadata": {},
      "outputs": [],
      "source": [
        "def tournament_selection(\n",
        "    population: List[Dict[str, int]], fitness: npt.NDArray, t_size=3\n",
        "):\n",
        "    \"\"\"returns the best individual in a random subset of population of size t_size\"\"\"\n",
        "    rng = np.random.default_rng()\n",
        "    tournament = rng.choice(len(population), size=t_size)\n",
        "    ind = tournament[\n",
        "        np.argmax(fitness[tournament])\n",
        "    ]  # keep in mind we have to maximise fitness\n",
        "    return population[ind], fitness[ind]\n"
      ]
    },
    {
      "cell_type": "code",
      "execution_count": 93,
      "id": "c4ac3172",
      "metadata": {},
      "outputs": [],
      "source": [
        "def truncation_selection(population: List[Dict[str, int]], fitness: npt.NDArray, p=0.2):\n",
        "    \"\"\"returns the best p*len(population) individuals\"\"\"\n",
        "    \n",
        "    n_elites = int(np.floor(len(population) * p))\n",
        "\n",
        "    elites = np.argsort(fitness)[-n_elites:]  # keep in mind we have to maximise fitness\n",
        "\n",
        "    return population[elites], fitness[elites]\n"
      ]
    },
    {
      "cell_type": "code",
      "execution_count": 96,
      "id": "3b72dd69",
      "metadata": {},
      "outputs": [],
      "source": [
        "def genetic_algorithm(\n",
        "    population: List[Dict[str, int]],\n",
        "    stock: Dict[str, int],\n",
        "    weight: Dict[str, int],\n",
        "    price: Dict[str, int],\n",
        "    fitness: npt.NDArray | None,\n",
        "    max_weight=5000,\n",
        "):\n",
        "    \"\"\"\n",
        "    performs one iteration of genetic algorithm search\n",
        "    \"\"\"\n",
        "    if fitness is None:\n",
        "        fitness = np.empty(len(population))\n",
        "        for idx, load in enumerate(population):\n",
        "            fitness[idx] = evaluate(load, stock, weight, price, max_weight)\n",
        "\n",
        "    next_pop, next_fitness = truncation_selection(population, fitness) # keep the 20% best individuals \n",
        "\n",
        "    while len(next_pop) < len(population):\n",
        "        parent1, _ = tournament_selection(population, fitness)\n",
        "        parent2, _ = tournament_selection(population, fitness)\n",
        "        child = crossover(parent1, parent2)\n",
        "        child = mutate(child, stock)\n",
        "        next_pop = np.concatenate((np.array(next_pop), np.array([child])))\n",
        "        next_fitness = np.concatenate(\n",
        "            (next_fitness.flatten(), np.array([evaluate(child, stock, weight, price, max_weight)]))\n",
        "        )\n",
        "\n",
        "    return next_pop, next_fitness\n"
      ]
    },
    {
      "cell_type": "code",
      "execution_count": 104,
      "id": "58284770",
      "metadata": {},
      "outputs": [
        {
          "name": "stdout",
          "output_type": "stream",
          "text": [
            "3 951.5500000000001\n",
            "4 956.7500000000001\n",
            "5 975.75\n",
            "6 977.8\n",
            "7 991.95\n",
            "8 1002.7500000000001\n",
            "10 1003.5500000000001\n",
            "11 1010.2000000000002\n",
            "13 1013.6500000000002\n",
            "14 1018.4500000000002\n",
            "15 1025.8500000000004\n",
            "16 1029.4\n",
            "17 1032.6000000000001\n",
            "19 1034.2\n",
            "20 1034.9000000000003\n",
            "21 1040.0\n",
            "22 1044.8500000000001\n",
            "23 1049.3000000000002\n",
            "24 1051.5500000000002\n",
            "25 1054.55\n",
            "26 1056.1499999999999\n",
            "27 1058.0000000000002\n",
            "31 1061.3000000000002\n",
            "33 1062.15\n",
            "34 1062.95\n",
            "35 1064.6499999999999\n",
            "36 1065.2\n",
            "39 1065.7\n",
            "40 1065.8999999999999\n",
            "41 1066.35\n",
            "42 1066.6499999999999\n",
            "44 1067.5500000000002\n",
            "45 1068.1999999999998\n",
            "46 1068.3999999999999\n",
            "48 1068.7500000000002\n",
            "50 1072.1000000000001\n",
            "53 1072.25\n",
            "54 1072.75\n",
            "55 1073.3500000000001\n",
            "56 1073.3999999999999\n",
            "58 1073.55\n",
            "60 1075.6\n",
            "62 1076.95\n",
            "63 1077.3999999999999\n",
            "64 1077.8500000000001\n",
            "67 1079.3999999999999\n",
            "71 1080.1999999999998\n",
            "72 1080.4999999999998\n",
            "73 1081.45\n",
            "77 1082.1\n",
            "78 1082.7\n",
            "79 1084.3499999999997\n",
            "85 1085.4\n",
            "87 1086.1499999999999\n",
            "89 1088.0500000000002\n",
            "92 1088.5\n",
            "93 1088.85\n",
            "94 1088.95\n",
            "95 1090.35\n",
            "98 1092.6\n",
            "100 1092.6499999999999\n",
            "101 1092.85\n",
            "102 1093.0\n",
            "103 1093.3999999999999\n",
            "104 1094.5500000000002\n",
            "105 1095.2\n",
            "107 1096.4\n",
            "108 1096.6\n",
            "111 1097.0\n",
            "112 1097.75\n",
            "113 1097.95\n",
            "114 1098.85\n",
            "115 1100.55\n",
            "116 1102.95\n",
            "122 1104.45\n",
            "128 1106.55\n",
            "130 1107.15\n",
            "133 1107.8999999999999\n",
            "137 1108.5000000000002\n",
            "139 1110.1000000000001\n",
            "140 1110.8500000000001\n",
            "148 1111.3500000000001\n",
            "149 1111.6\n",
            "152 1111.6499999999999\n",
            "153 1111.7\n",
            "154 1113.1\n",
            "157 1114.0\n",
            "158 1114.35\n",
            "159 1114.5\n",
            "161 1114.6000000000001\n",
            "163 1115.8500000000001\n",
            "165 1116.05\n",
            "166 1116.2500000000002\n",
            "167 1116.45\n",
            "168 1116.6999999999998\n",
            "170 1117.5\n",
            "172 1117.8500000000001\n",
            "173 1118.45\n",
            "175 1119.35\n",
            "178 1121.1000000000001\n",
            "180 1121.3000000000002\n",
            "184 1121.55\n",
            "185 1121.9\n",
            "186 1122.0000000000002\n",
            "188 1122.8\n",
            "189 1122.95\n",
            "193 1123.8\n",
            "199 1124.3500000000001\n",
            "200 1124.55\n",
            "202 1126.8\n",
            "207 1126.8500000000001\n",
            "218 1127.1999999999998\n",
            "225 1127.3500000000001\n",
            "234 1127.75\n",
            "247 1127.85\n",
            "248 1128.25\n",
            "274 1128.3\n",
            "280 1128.35\n",
            "290 1128.6\n",
            "298 1128.7499999999998\n",
            "324 1128.75\n",
            "325 1128.85\n",
            "327 1128.8999999999999\n",
            "345 1128.9\n",
            "346 1129.0\n",
            "347 1129.1\n",
            "353 1129.5\n",
            "379 1129.65\n",
            "381 1129.8\n",
            "414 1129.85\n",
            "431 1129.9499999999998\n",
            "444 1130.0\n",
            "454 1130.1\n",
            "459 1130.15\n",
            "472 1130.1999999999998\n",
            "483 1130.25\n",
            "485 1130.35\n",
            "523 1130.3999999999999\n",
            "524 1130.45\n",
            "550 1130.5\n",
            "557 1130.6\n",
            "564 1130.6499999999999\n",
            "582 1130.8500000000001\n",
            "605 1130.8999999999999\n",
            "630 1130.9499999999998\n",
            "635 1131.05\n",
            "648 1131.4500000000003\n",
            "669 1131.55\n",
            "682 1131.7500000000002\n",
            "685 1131.9\n",
            "688 1131.95\n",
            "691 1132.0500000000002\n",
            "694 1132.1\n",
            "700 1132.1000000000001\n",
            "702 1132.1499999999999\n",
            "705 1132.1999999999998\n",
            "718 1132.2\n",
            "721 1132.5\n",
            "741 1132.5500000000002\n",
            "761 1132.65\n",
            "788 1132.75\n",
            "824 1132.85\n",
            "835 1132.95\n",
            "846 1133.0500000000002\n",
            "856 1133.15\n",
            "898 1133.3500000000001\n",
            "959 1133.4\n",
            "964 1133.45\n",
            "970 1133.55\n",
            "994 1133.65\n",
            "obtained a load priced 1133.65 with 56070 evaluations of objective\n"
          ]
        }
      ],
      "source": [
        "n_gen = 1000\n",
        "n_population = 70\n",
        "\n",
        "population = np.array([get_random_load(stock) for _ in range(n_population)])\n",
        "maxfit = np.zeros(n_gen)\n",
        "\n",
        "fitness = None\n",
        "evaluate.reset_count()\n",
        "for i in range(n_gen):\n",
        "    population, fitness = genetic_algorithm(\n",
        "        population, stock, weight, price, fitness, 5000  # type: ignore\n",
        "    )\n",
        "    maxfit[i] = np.max(fitness)\n",
        "    if i > 2 and maxfit[i] > maxfit[i - 1]:\n",
        "        print(i, maxfit[i])\n",
        "\n",
        "best_load = population[np.argmax(fitness)]  # type: ignore\n",
        "print(f\"obtained a load priced {maxfit[-1]:.2f} with {evaluate.call_count} evaluations of objective\")\n",
        "\n",
        "# best result 1141.95 in 5000 iterations with 100 population and default mutation params\n",
        "# it does not seem like we can get better results with this algorithm and those params.\n"
      ]
    },
    {
      "cell_type": "markdown",
      "id": "6fc04f89",
      "metadata": {},
      "source": [
        "On obtient de **bien meilleurs résultats** qu'en random search, pour un nombre d'évaluations de la fonction objectif plus faible. Ce nombre d'évaluation est quand même assez conséquent, une augmentation de la proportion des meilleurs individus à garder (paramètre p dans truncation_selection) permettrait de le réduire. On pourrait aussi changer le type de crossover et les paramètres de mutation pour espérer avoir de meilleurs résultats.\n",
        "<br><br>\n",
        "On voit que la convergence est <b>rapide au début puis très lente</b>.<br>Peut-être faudra-il ajouter plus de diversité / garder plus d'individus mauvais ? Changer la méthode de crossover pour faire une moyenne et non un choix aléatoire ? Il n'y a peut-être tout simplement pas de meilleur distribution que celle obtenant un prix de 1141.95, d'où la convergence lente en se rapprochant de cet objectif.\n"
      ]
    },
    {
      "cell_type": "code",
      "execution_count": 105,
      "id": "1ef25ae5",
      "metadata": {},
      "outputs": [
        {
          "data": {
            "text/plain": [
              "[<matplotlib.lines.Line2D at 0x1474d3e20>]"
            ]
          },
          "execution_count": 105,
          "metadata": {},
          "output_type": "execute_result"
        },
        {
          "data": {
            "image/png": "[encoded data removed]",
            "text/plain": [
              "<Figure size 640x480 with 1 Axes>"
            ]
          },
          "metadata": {},
          "output_type": "display_data"
        }
      ],
      "source": [
        "plt.plot(maxfit)\n"
      ]
    },
    {
      "cell_type": "markdown",
      "id": "1db64ad0",
      "metadata": {
        "id": "1db64ad0"
      },
      "source": [
        "## Challenge 2\n"
      ]
    },
    {
      "cell_type": "markdown",
      "id": "ad10e8aa",
      "metadata": {
        "id": "ad10e8aa"
      },
      "source": [
        "The agricultural market in this world is highly variable. This time, you'll be selling your load to a reseller, but you're not sure which one. Each reseller has different prices, so it depends on which one you'll meet. To be prepared, you should explore the possible options.\n"
      ]
    },
    {
      "cell_type": "code",
      "execution_count": 204,
      "id": "0855930f",
      "metadata": {},
      "outputs": [],
      "source": [
        "from pymoo.algorithms.soo.nonconvex.ga import GA\n",
        "from pymoo.core.problem import ElementwiseProblem\n",
        "\n",
        "from pymoo.operators.sampling.rnd import IntegerRandomSampling\n",
        "from pymoo.optimize import minimize\n",
        "from pymoo.core.crossover import Crossover\n",
        "from pymoo.operators.crossover.sbx import SBX\n",
        "from pymoo.operators.mutation.pm import PolynomialMutation\n",
        "from pymoo.operators.mutation.pm import PM\n",
        "from pymoo.core.mutation import Mutation\n",
        "\n",
        "from pymoo.operators.repair.rounding import RoundingRepair\n",
        "\n",
        "from pymoo.algorithms.moo.nsga2 import NSGA2, RankAndCrowdingSurvival\n",
        "from pymoo.operators.crossover.ux import UniformCrossover\n",
        "\n"
      ]
    },
    {
      "cell_type": "code",
      "execution_count": 33,
      "id": "6f1fb98d",
      "metadata": {
        "id": "6f1fb98d"
      },
      "outputs": [],
      "source": [
        "price_a = df[\"price_A\"].to_dict()\n",
        "price_b = df[\"price_B\"].to_dict()\n",
        "price_c = df[\"price_C\"].to_dict()\n",
        "\n",
        "prices = [price_a, price_b, price_c]\n"
      ]
    },
    {
      "cell_type": "code",
      "execution_count": 65,
      "id": "38401b8b",
      "metadata": {},
      "outputs": [
        {
          "name": "stdout",
          "output_type": "stream",
          "text": [
            "idx=0 key='Apple' price=1.1 \n",
            "idx=1 key='Apricot' price=0.6 \n",
            "idx=2 key='Blueberry' price=1.2 \n",
            "idx=3 key='Cactus Fruit' price=0.3 \n",
            "idx=4 key='Cherry' price=1.1 \n",
            "idx=5 key='Cranberry' price=0.4 \n",
            "idx=6 key='Grape' price=0.5 \n",
            "idx=7 key='Melon' price=1.1 \n",
            "idx=8 key='Orange' price=0.8 \n",
            "idx=9 key='Peach' price=0.6 \n",
            "idx=10 key='Pomegranate' price=1.2 \n",
            "idx=11 key='Rhubarb' price=0.5 \n",
            "idx=12 key='Starfruit' price=0.4 \n",
            "idx=13 key='Strawberry' price=1.0 \n",
            "idx=14 key='Amaranth' price=1.0 \n",
            "idx=15 key='Artichoke' price=0.6 \n",
            "idx=16 key='Beet' price=0.9 \n",
            "idx=17 key='Bok Choy' price=0.7 \n",
            "idx=18 key='Cauliflower' price=0.5 \n",
            "idx=19 key='Corn' price=0.3 \n",
            "idx=20 key='Eggplant' price=0.3 \n",
            "idx=21 key='Garlic' price=0.2 \n",
            "idx=22 key='Green Bean' price=0.7 \n",
            "idx=23 key='Hops' price=0.4 \n",
            "idx=24 key='Hot Pepper' price=1.0 \n",
            "idx=25 key='Kale' price=1.1 \n",
            "idx=26 key='Parsnip' price=1.1 \n",
            "idx=27 key='Potato' price=0.6 \n",
            "idx=28 key='Pumpkin' price=0.2 \n",
            "idx=29 key='Radish' price=0.7 \n",
            "idx=30 key='Red Cabbage' price=0.6 \n",
            "idx=31 key='Tomato' price=0.5 \n",
            "idx=32 key='Wheat' price=0.5 \n",
            "idx=33 key='Yam' price=0.7 \n",
            "idx=34 key='Blackberry' price=0.5 \n"
          ]
        }
      ],
      "source": [
        "for idx, (key, value) in enumerate(df[\"price_C\"].items()):\n",
        "    print(f\"{idx=} {key=} price={value} \")\n"
      ]
    },
    {
      "cell_type": "code",
      "execution_count": 20,
      "id": "c2b295f9",
      "metadata": {
        "id": "c2b295f9"
      },
      "outputs": [
        {
          "data": {
            "text/plain": [
              "(0.8, 0.4, 1.1)"
            ]
          },
          "execution_count": 20,
          "metadata": {},
          "output_type": "execute_result"
        }
      ],
      "source": [
        "price_a[\"Cherry\"], price_b[\"Cherry\"], price_c[\"Cherry\"]\n"
      ]
    },
    {
      "cell_type": "markdown",
      "id": "5ad5ab54",
      "metadata": {
        "id": "5ad5ab54"
      },
      "source": [
        "Given that cherries have very different prices between the different resellers, the example load we made ealier would fetch a wildly different price depending on the reseller:\n"
      ]
    },
    {
      "cell_type": "code",
      "execution_count": 21,
      "id": "8dc3fa44",
      "metadata": {
        "id": "8dc3fa44"
      },
      "outputs": [
        {
          "name": "stdout",
          "output_type": "stream",
          "text": [
            "701.1 319.7 463.2999999999999\n"
          ]
        }
      ],
      "source": [
        "a = evaluate(trial_load, stock, weight, price_a)\n",
        "b = evaluate(trial_load, stock, weight, price_b)\n",
        "c = evaluate(trial_load, stock, weight, price_c)\n",
        "print(a, b, c)\n"
      ]
    },
    {
      "cell_type": "code",
      "execution_count": 31,
      "id": "297f726d",
      "metadata": {},
      "outputs": [
        {
          "name": "stdout",
          "output_type": "stream",
          "text": [
            "35\n"
          ]
        },
        {
          "data": {
            "text/plain": [
              "35"
            ]
          },
          "execution_count": 31,
          "metadata": {},
          "output_type": "execute_result"
        }
      ],
      "source": [
        "print(len(stock))\n",
        "len(list(stock.values()))\n"
      ]
    },
    {
      "cell_type": "code",
      "execution_count": 55,
      "id": "a2730139",
      "metadata": {},
      "outputs": [],
      "source": [
        "def evaluate_pymoo(\n",
        "    load: List[int],\n",
        "    stock: Dict[str, int],\n",
        "    weight: Dict[str, int],\n",
        "    price: Dict[str, int],\n",
        "    max_weight=5000,\n",
        "):\n",
        "    total_weight = 0\n",
        "    total_price = 0\n",
        "    for idx, key in enumerate(price.keys()):\n",
        "        if load[idx] <= stock[key]:\n",
        "            total_price += load[idx] * price[key]\n",
        "            total_weight += load[idx] * weight[key]\n",
        "            if total_weight > max_weight:\n",
        "                return 0\n",
        "        else:\n",
        "            return 0\n",
        "    return total_price\n"
      ]
    },
    {
      "cell_type": "code",
      "execution_count": 225,
      "id": "6c17b00f",
      "metadata": {},
      "outputs": [
        {
          "data": {
            "text/plain": [
              "array([ 5, 65,  5, 90, 15, 75, 70, 75, 40, 55,  5, 70,  5, 20, 20, 65, 30,\n",
              "       55, 70, 90, 95, 95, 55, 75, 25,  5, 10, 55, 30, 50, 55, 65, 75, 50,\n",
              "       70])"
            ]
          },
          "execution_count": 225,
          "metadata": {},
          "output_type": "execute_result"
        }
      ],
      "source": [
        "np.array(list(stock.values()))"
      ]
    },
    {
      "cell_type": "code",
      "execution_count": 224,
      "id": "13e2442a",
      "metadata": {},
      "outputs": [],
      "source": [
        "# algorith = GA(pop_size=100, )\n",
        "\n",
        "\n",
        "class MarketProblemMultiSeller(ElementwiseProblem):\n",
        "    stock: Dict[str, int]\n",
        "    weight: Dict[str, int]\n",
        "    prices: pd.DataFrame\n",
        "    prices_columns: List[str]\n",
        "    max_weight: int\n",
        "    xl: npt.NDArray[np.int32]\n",
        "    xu: npt.NDArray[np.int32]\n",
        "\n",
        "    def __init__(\n",
        "        self,\n",
        "        stock: Dict[str, int],\n",
        "        weight: Dict[str, int],\n",
        "        prices: pd.DataFrame,\n",
        "        prices_columns: List[str] = [\"price_A\", \"price_B\", \"price_C\"],\n",
        "        max_weight=5000,\n",
        "    ):\n",
        "        self.stock = stock\n",
        "        self.weight = weight\n",
        "        self.prices = prices\n",
        "        self.prices_columns = prices_columns\n",
        "        self.max_weight = max_weight\n",
        "\n",
        "        # super(MarketProblemMultiSeller, self).__init__(\n",
        "        super().__init__(\n",
        "            n_obj=3,\n",
        "            n_var=len(stock),\n",
        "            n_ieq_constr=1,\n",
        "            xl=np.zeros(len(stock)),\n",
        "            xu=np.array(list(stock.values()), dtype=np.int32),\n",
        "        )\n",
        "\n",
        "    def _evaluate(self, x, out, *args, **kwargs):\n",
        "        total_weight = np.sum(x * np.array(list(self.weight.values())))\n",
        "\n",
        "        # create prices data\n",
        "        total_price = {column: 0 for column in self.prices_columns}\n",
        "\n",
        "        for column in self.prices_columns:\n",
        "            for idx, (_, price) in enumerate(self.prices[column].items()):\n",
        "                total_price[column] += x[idx] * price\n",
        "\n",
        "        out[\"F\"] = np.array([-price for price in total_price.values()])\n",
        "        out[\"G\"] = total_weight - self.max_weight\n",
        "        return\n"
      ]
    },
    {
      "cell_type": "code",
      "execution_count": null,
      "id": "57240983",
      "metadata": {},
      "outputs": [],
      "source": [
        "def pymoo_crossover(indiv1: list[int], indiv2: list[int]) -> List[int]:\n",
        "    \"\"\"\n",
        "    crossover entre deux stocks\n",
        "\n",
        "    prend aléatoirement (p=0.5) le chargement de load1 ou load2 pour chaque culture\n",
        "    \"\"\"\n",
        "    child = np.empty(len(indiv1), dtype=np.int64)\n",
        "    probas = np.random.rand(len(indiv1))\n",
        "\n",
        "    for i in range(len(indiv1)):\n",
        "        if probas[i] > 0.5:\n",
        "            child[i] = indiv1[i]\n",
        "        else:\n",
        "            child[i] = indiv2[i]\n",
        "\n",
        "    return list(child)\n"
      ]
    },
    {
      "cell_type": "code",
      "execution_count": null,
      "id": "632e59ff",
      "metadata": {},
      "outputs": [],
      "source": [
        "class PymooCrossover(Crossover):\n",
        "    def __init__(self):\n",
        "\n",
        "        # define the crossover: number of parents and number of offsprings\n",
        "        super().__init__(2, 2)\n",
        "\n",
        "    def _do(self, problem, X, **kwargs):\n",
        "\n",
        "        # The input of has the following shape (n_parents, n_matings, n_var)\n",
        "        _, n_matings, n_var = X.shape\n",
        "\n",
        "        # The output owith the shape (n_offsprings, n_matings, n_var)\n",
        "        # Because there the number of parents and offsprings are equal it keeps the shape of X\n",
        "        Y = np.full_like(X, None, dtype=object)\n",
        "\n",
        "        # for each mating provided\n",
        "        for k in range(n_matings):\n",
        "\n",
        "            # get the first and the second parent\n",
        "            a, b = X[0, k, 0], X[1, k, 0]\n",
        "\n",
        "            # prepare the offsprings\n",
        "            off_a = [\"_\"] * problem.n_characters\n",
        "            off_b = [\"_\"] * problem.n_characters\n",
        "\n",
        "            for i in range(problem.n_characters):\n",
        "                if np.random.random() < 0.5:\n",
        "                    off_a[i] = a[i]\n",
        "                    off_b[i] = b[i]\n",
        "                else:\n",
        "                    off_a[i] = b[i]\n",
        "                    off_b[i] = a[i]\n",
        "\n",
        "            # join the character list and set the output\n",
        "            Y[0, k, 0], Y[1, k, 0] = \"\".join(off_a), \"\".join(off_b)\n",
        "\n",
        "        return Y\n"
      ]
    },
    {
      "cell_type": "code",
      "execution_count": 226,
      "id": "d4f91e30",
      "metadata": {},
      "outputs": [],
      "source": [
        "class MutateLoad(Mutation):\n",
        "    # def __init__(self, prob=0.9, eta=20, at_least_once=False, **kwargs):\n",
        "    #     super().__init__(prob=prob, **kwargs)\n",
        "\n",
        "    def _do(self, problem: MarketProblemMultiSeller, X: npt.NDArray, **kwargs):\n",
        "        \"\"\"\n",
        "        permet d'avoir un chargement voisin qui respecte le stock\n",
        "        ne modifie pas load, renvoie une nouvelle instance. inplace\n",
        "\n",
        "        pour chaque culture ajoute + ou - 1 avec une probabilité proba,\n",
        "        par défaut 10%, soit 5% pour +1 et 5% pour -1\n",
        "        \"\"\"\n",
        "        threshold = 0.1\n",
        "\n",
        "        # iterate over all loads contained in X\n",
        "        for load_idx in range(X.shape[0]):\n",
        "            probas = np.random.rand(len(X))\n",
        "\n",
        "            # iterate over all the variables in one load\n",
        "            for crop_idx, (crop_amount, proba) in enumerate(zip(X[load_idx], probas)):\n",
        "                if proba < threshold / 2:\n",
        "                    # check if we can add 1 and still respect max load\n",
        "                    if crop_amount + 1 <= problem.xu[crop_idx]:\n",
        "                        X[load_idx][crop_idx] = crop_amount + 1\n",
        "                elif proba < threshold:\n",
        "                    # check if we can subtract 1 and not be under 0\n",
        "                    if crop_amount >= problem.xl[crop_idx] + 1:\n",
        "                        X[load_idx][crop_idx] = crop_amount - 1\n",
        "\n",
        "        return X\n"
      ]
    },
    {
      "cell_type": "code",
      "execution_count": 235,
      "id": "364767d3",
      "metadata": {},
      "outputs": [],
      "source": [
        "algorithm = NSGA2(\n",
        "    pop_size=100,\n",
        "    n_offsprings=100,\n",
        "    eliminate_duplicates=True,\n",
        "    mutation=MutateLoad(),\n",
        "    crossover=UniformCrossover(repair=RoundingRepair()),\n",
        "    survival=RankAndCrowdingSurvival(),\n",
        "    sampling=IntegerRandomSampling(),\n",
        ")  # the uniform crossover perform the same crossover as we did before\n"
      ]
    },
    {
      "cell_type": "code",
      "execution_count": 236,
      "id": "835a29bb",
      "metadata": {},
      "outputs": [],
      "source": [
        "problem = MarketProblemMultiSeller(stock, weight, df)\n"
      ]
    },
    {
      "cell_type": "code",
      "execution_count": 237,
      "id": "db39de29",
      "metadata": {},
      "outputs": [
        {
          "name": "stdout",
          "output_type": "stream",
          "text": [
            "Best solution found: [[ 5 12  4 ... 12 50  9]\n",
            " [ 5 12  4 ... 12 50 10]\n",
            " [ 5 56  5 ... 10 50 69]\n",
            " ...\n",
            " [ 5 56  4 ... 10 50 66]\n",
            " [ 5 10  5 ... 10 50 10]\n",
            " [ 4 12  5 ... 10 50  7]]\n",
            "Function value: [[ -865.1   -448.7   -541.6 ]\n",
            " [ -864.5   -448.6   -542.6 ]\n",
            " [-1056.25  -406.1   -725.5 ]\n",
            " [-1064.35  -404.3   -721.1 ]\n",
            " [ -923.05  -444.7   -568.  ]\n",
            " [ -880.65  -445.3   -558.5 ]\n",
            " [ -963.55  -441.3   -591.5 ]\n",
            " [ -945.85  -443.2   -562.1 ]\n",
            " [ -992.9   -431.9   -644.8 ]\n",
            " [ -954.4   -442.9   -573.1 ]\n",
            " [-1009.25  -422.7   -681.1 ]\n",
            " [ -979.25  -435.1   -627.3 ]\n",
            " [ -956.75  -442.3   -576.8 ]\n",
            " [ -994.15  -431.1   -650.4 ]\n",
            " [ -985.9   -433.5   -638.2 ]\n",
            " [ -961.    -441.5   -582.8 ]\n",
            " [ -960.35  -441.9   -581.8 ]\n",
            " [ -972.6   -439.    -603.9 ]\n",
            " [-1041.2   -413.    -695.2 ]\n",
            " [-1019.7   -428.5   -633.9 ]\n",
            " [ -987.7   -436.9   -615.1 ]\n",
            " [-1044.55  -419.2   -648.  ]\n",
            " [-1050.1   -411.7   -703.  ]\n",
            " [-1046.15  -408.9   -714.9 ]\n",
            " [ -944.2   -443.8   -564.7 ]\n",
            " [-1017.9   -424.3   -661.4 ]\n",
            " [ -970.4   -437.9   -612.  ]\n",
            " [ -975.1   -438.1   -606.1 ]\n",
            " [ -873.6   -447.7   -548.4 ]\n",
            " [ -970.85  -440.8   -598.9 ]\n",
            " [ -941.6   -444.    -569.9 ]\n",
            " [ -999.3   -426.3   -669.6 ]\n",
            " [-1014.95  -424.9   -665.2 ]\n",
            " [-1046.95  -412.2   -700.  ]\n",
            " [ -963.25  -441.3   -593.1 ]\n",
            " [ -934.8   -443.4   -571.2 ]\n",
            " [-1033.1   -416.    -683.3 ]\n",
            " [ -929.7   -446.    -553.8 ]\n",
            " [-1036.35  -418.5   -671.4 ]\n",
            " [-1016.4   -420.2   -687.4 ]\n",
            " [-1062.25  -404.4   -718.9 ]\n",
            " [-1023.35  -418.    -692.9 ]\n",
            " [-1037.4   -421.4   -644.  ]\n",
            " [-1035.25  -417.3   -675.6 ]\n",
            " [-1049.5   -410.9   -704.2 ]\n",
            " [-1031.8   -416.8   -691.5 ]\n",
            " [ -982.65  -433.6   -631.3 ]\n",
            " [ -878.6   -445.2   -559.  ]\n",
            " [ -996.15  -434.3   -629.2 ]\n",
            " [-1027.7   -417.    -698.9 ]\n",
            " [-1060.25  -404.8   -716.2 ]\n",
            " [-1048.55  -415.    -685.1 ]\n",
            " [ -992.2   -436.1   -617.4 ]\n",
            " [ -961.55  -439.2   -608.6 ]\n",
            " [ -925.6   -446.7   -549.3 ]\n",
            " [ -997.55  -429.8   -656.3 ]\n",
            " [-1006.85  -427.7   -656.2 ]\n",
            " [-1006.5   -424.    -668.1 ]\n",
            " [ -931.95  -446.2   -550.2 ]\n",
            " [-1021.45  -423.5   -654.3 ]\n",
            " [ -938.55  -444.6   -557.3 ]\n",
            " [-1059.4   -405.9   -723.  ]\n",
            " [ -927.35  -446.5   -552.2 ]\n",
            " [-1012.3   -430.7   -619.3 ]\n",
            " [-1009.    -427.1   -653.8 ]\n",
            " [ -869.25  -447.5   -548.5 ]\n",
            " [-1004.15  -425.4   -665.7 ]\n",
            " [-1019.6   -426.9   -642.7 ]\n",
            " [-1009.25  -425.9   -658.6 ]\n",
            " [ -975.6   -437.5   -621.  ]\n",
            " [ -938.05  -445.2   -555.2 ]\n",
            " [ -990.65  -436.2   -624.4 ]\n",
            " [ -970.95  -439.6   -601.  ]\n",
            " [-1017.6   -420.    -688.2 ]\n",
            " [-1023.7   -419.4   -678.8 ]\n",
            " [ -971.45  -440.2   -599.8 ]\n",
            " [-1039.8   -421.5   -639.8 ]\n",
            " [-1042.8   -409.9   -706.5 ]\n",
            " [ -955.85  -442.5   -574.6 ]\n",
            " [-1054.15  -408.2   -705.4 ]\n",
            " [-1033.4   -413.7   -710.1 ]\n",
            " [-1049.25  -414.2   -677.3 ]\n",
            " [-1048.15  -409.8   -709.1 ]\n",
            " [-1025.05  -414.    -707.5 ]\n",
            " [-1042.65  -421.8   -639.3 ]\n",
            " [-1053.35  -406.8   -712.4 ]\n",
            " [ -865.2   -448.3   -544.  ]\n",
            " [-1060.    -405.4   -724.2 ]\n",
            " [ -868.95  -447.8   -546.4 ]\n",
            " [-1027.45  -415.4   -705.4 ]\n",
            " [-1002.35  -433.5   -625.  ]\n",
            " [ -976.7   -437.3   -619.3 ]\n",
            " [ -982.    -434.6   -635.1 ]\n",
            " [ -996.65  -425.3   -673.5 ]\n",
            " [-1052.5   -407.8   -712.7 ]\n",
            " [ -980.75  -436.3   -616.  ]\n",
            " [-1053.15  -407.7   -712.1 ]\n",
            " [-1031.25  -413.2   -712.3 ]\n",
            " [ -866.45  -447.9   -542.6 ]\n",
            " [-1015.55  -430.2   -632.8 ]]\n",
            "Constraint violation: [[0.]\n",
            " [0.]\n",
            " [0.]\n",
            " [0.]\n",
            " [0.]\n",
            " [0.]\n",
            " [0.]\n",
            " [0.]\n",
            " [0.]\n",
            " [0.]\n",
            " [0.]\n",
            " [0.]\n",
            " [0.]\n",
            " [0.]\n",
            " [0.]\n",
            " [0.]\n",
            " [0.]\n",
            " [0.]\n",
            " [0.]\n",
            " [0.]\n",
            " [0.]\n",
            " [0.]\n",
            " [0.]\n",
            " [0.]\n",
            " [0.]\n",
            " [0.]\n",
            " [0.]\n",
            " [0.]\n",
            " [0.]\n",
            " [0.]\n",
            " [0.]\n",
            " [0.]\n",
            " [0.]\n",
            " [0.]\n",
            " [0.]\n",
            " [0.]\n",
            " [0.]\n",
            " [0.]\n",
            " [0.]\n",
            " [0.]\n",
            " [0.]\n",
            " [0.]\n",
            " [0.]\n",
            " [0.]\n",
            " [0.]\n",
            " [0.]\n",
            " [0.]\n",
            " [0.]\n",
            " [0.]\n",
            " [0.]\n",
            " [0.]\n",
            " [0.]\n",
            " [0.]\n",
            " [0.]\n",
            " [0.]\n",
            " [0.]\n",
            " [0.]\n",
            " [0.]\n",
            " [0.]\n",
            " [0.]\n",
            " [0.]\n",
            " [0.]\n",
            " [0.]\n",
            " [0.]\n",
            " [0.]\n",
            " [0.]\n",
            " [0.]\n",
            " [0.]\n",
            " [0.]\n",
            " [0.]\n",
            " [0.]\n",
            " [0.]\n",
            " [0.]\n",
            " [0.]\n",
            " [0.]\n",
            " [0.]\n",
            " [0.]\n",
            " [0.]\n",
            " [0.]\n",
            " [0.]\n",
            " [0.]\n",
            " [0.]\n",
            " [0.]\n",
            " [0.]\n",
            " [0.]\n",
            " [0.]\n",
            " [0.]\n",
            " [0.]\n",
            " [0.]\n",
            " [0.]\n",
            " [0.]\n",
            " [0.]\n",
            " [0.]\n",
            " [0.]\n",
            " [0.]\n",
            " [0.]\n",
            " [0.]\n",
            " [0.]\n",
            " [0.]\n",
            " [0.]]\n"
          ]
        }
      ],
      "source": [
        "res = minimize(\n",
        "    problem,\n",
        "    algorithm,\n",
        "    termination=(\"n_gen\", 1000),\n",
        "    # seed=1,\n",
        "    save_history=True,\n",
        ")\n",
        "\n",
        "print(\"Best solution found: %s\" % res.X)\n",
        "print(\"Function value: %s\" % res.F)\n",
        "print(\"Constraint violation: %s\" % res.CV)\n"
      ]
    },
    {
      "cell_type": "code",
      "execution_count": 230,
      "id": "74b26dd5",
      "metadata": {},
      "outputs": [],
      "source": [
        "def is_load_valid(load: npt.NDArray, stock: Dict[str, int], weight: Dict[str, int], max_weight = 5000) -> bool:\n",
        "    load = load.flatten()\n",
        "    \n",
        "    if not (len(load) == len(stock) == len(weight)):\n",
        "        print(\"dimensions do not correspond\")\n",
        "        return False\n",
        "    \n",
        "    total_weight=0\n",
        "\n",
        "    for idx, (crop_quantity, crop_stock, crop_weight) in enumerate(zip(load, stock.values(), weight.values())):\n",
        "        if crop_quantity > crop_stock or crop_quantity < 0:\n",
        "            print(f\"crop n°{idx} quantity ({crop_quantity}) does not correspond to stock {crop_stock}.\")\n",
        "            return False\n",
        "        \n",
        "        total_weight += crop_quantity * crop_weight\n",
        "\n",
        "    if total_weight > max_weight:\n",
        "        print(f\"total weight {total_weight} is over max allowed weight of {max_weight}\")\n",
        "        return False\n",
        "    return True\n"
      ]
    },
    {
      "cell_type": "code",
      "execution_count": 239,
      "id": "25627225",
      "metadata": {},
      "outputs": [],
      "source": [
        "for x in res.X:\n",
        "    if not is_load_valid(x, stock, weight):\n",
        "        print(f\"{x=} not valid\")"
      ]
    },
    {
      "cell_type": "markdown",
      "id": "40447192",
      "metadata": {
        "id": "40447192"
      },
      "source": [
        "Prepare four different options for your market day haul: one option that will be good for reseller A, one for reseller B, one for reseller C, and one which would be pretty good for all three. Display these options and compare their different prices.\n"
      ]
    },
    {
      "cell_type": "markdown",
      "id": "8c3ff230",
      "metadata": {
        "id": "8c3ff230"
      },
      "source": [
        "Hint: you can use a multi-objective algorithm to optimize for all three reseller prices at the same time.\n"
      ]
    },
    {
      "cell_type": "markdown",
      "id": "0d026d23",
      "metadata": {
        "id": "0d026d23"
      },
      "source": [
        "## Challenge 3\n"
      ]
    },
    {
      "cell_type": "markdown",
      "id": "1d7603f4",
      "metadata": {
        "id": "1d7603f4"
      },
      "source": [
        "You decide to preprare some of your crops by making food for the market day. You know a number of recipes and are famous for your delicious fruit pies.\n"
      ]
    },
    {
      "cell_type": "code",
      "execution_count": null,
      "id": "025beabd",
      "metadata": {
        "id": "025beabd"
      },
      "outputs": [],
      "source": [
        "recipes = {\n",
        "    \"Ratatouille\": {\"Eggplant\": 2, \"Garlic\": 2, \"Tomato\": 4, \"Hot Pepper\": 1},\n",
        "    \"Apple Pie\": {\"Apple\": 10, \"Wheat\": 5},\n",
        "    \"Apricot Pie\": {\"Apricot\": 10, \"Wheat\": 5},\n",
        "    \"Cherry Pie\": {\"Cherry\": 10, \"Wheat\": 5},\n",
        "    \"Rhubarb Pie\": {\"Rhubarb\": 10, \"Wheat\": 5},\n",
        "    \"Strawberry Pie\": {\"Strawberry\": 10, \"Wheat\": 5},\n",
        "    \"Blackberry Pie\": {\"Blackberry\": 10, \"Wheat\": 5},\n",
        "    \"Pumpkin Pie\": {\"Pumpkin\": 10, \"Wheat\": 5},\n",
        "    \"Pizza\": {\"Tomato\": 3, \"Wheat\": 2, \"Artichoke\": 1},\n",
        "    \"Baba Ghanoush\": {\"Eggplant\": 2, \"Garlic\": 4},\n",
        "    \"Squash Soup\": {\"Yam\": 3, \"Pumpkin\": 1},\n",
        "    \"Peach Beer\": {\"Hops\": 3, \"Peach\": 1},\n",
        "    \"Blackberry Beer\": {\"Hops\": 3, \"Blackberry\": 1},\n",
        "}\n"
      ]
    },
    {
      "cell_type": "markdown",
      "id": "1e250a2c",
      "metadata": {
        "id": "1e250a2c"
      },
      "source": [
        "These recipes sell for good prices at each of the resellers:\n"
      ]
    },
    {
      "cell_type": "code",
      "execution_count": null,
      "id": "7d0bfc4d",
      "metadata": {
        "id": "7d0bfc4d"
      },
      "outputs": [],
      "source": [
        "df = pd.read_csv(\"recipes.csv\", index_col=0)\n",
        "df.head()\n"
      ]
    },
    {
      "cell_type": "code",
      "execution_count": null,
      "id": "48b5850f",
      "metadata": {
        "id": "48b5850f"
      },
      "outputs": [],
      "source": [
        "price_a.update(df[\"price_A\"].to_dict())\n",
        "price_b.update(df[\"price_B\"].to_dict())\n",
        "price_c.update(df[\"price_C\"].to_dict())\n",
        "price_a[\"Apple Pie\"], price_b[\"Apple Pie\"], price_c[\"Apple Pie\"]\n"
      ]
    },
    {
      "cell_type": "markdown",
      "id": "f12c408d",
      "metadata": {
        "id": "f12c408d"
      },
      "source": [
        "Modify the evaluation function to take into account these recipes, making sure not to break the weight or stock constraints. The weight of a recipe is the sum total weight of the ingredients, and you can not make a recipe if you don't have the remaining stock of ingredients. Here's an example of calculating the total weight of a random load of only recipes:\n"
      ]
    },
    {
      "cell_type": "code",
      "execution_count": null,
      "id": "bf9c9986",
      "metadata": {
        "id": "bf9c9986"
      },
      "outputs": [],
      "source": [
        "recipe_load = {}\n",
        "for k in recipes:\n",
        "    recipe_load[k] = np.random.randint(0, 5)\n",
        "recipe_load\n"
      ]
    },
    {
      "cell_type": "code",
      "execution_count": null,
      "id": "6fbd7e02",
      "metadata": {
        "id": "6fbd7e02"
      },
      "outputs": [],
      "source": [
        "def get_weight(recipe_load, recipes, weight):\n",
        "    total_weight = 0\n",
        "    for k in recipe_load:\n",
        "        ingredients = recipes[k]\n",
        "        w = 0\n",
        "        for i in ingredients:\n",
        "            w += weight[i] * ingredients[i]\n",
        "        total_weight += w * recipe_load[k]\n",
        "    return total_weight\n"
      ]
    },
    {
      "cell_type": "code",
      "execution_count": null,
      "id": "22027764",
      "metadata": {
        "id": "22027764"
      },
      "outputs": [],
      "source": [
        "get_weight(recipe_load, recipes, weight)\n"
      ]
    },
    {
      "cell_type": "markdown",
      "id": "16aa5d3d",
      "metadata": {
        "id": "16aa5d3d"
      },
      "source": [
        "Once you've modified the evaluation function, rerun the optimization algorithm to find a new load for the three resellers, and one load which is good for all three. Display this result and the profit gained, making sure that the constraints are met.\n"
      ]
    },
    {
      "cell_type": "markdown",
      "id": "ac9e164e",
      "metadata": {
        "id": "ac9e164e"
      },
      "source": [
        "## Evaluation\n"
      ]
    },
    {
      "cell_type": "markdown",
      "id": "3fc7150b",
      "metadata": {
        "id": "3fc7150b"
      },
      "source": [
        "You should submit a saved copy of your notebook (including all of the cell output) to the LMS by December 13th, EOD. You may work with one partner, but you must **individually submit a notebook**. You will be graded based on your results, your code, and any text or visual explanations, according to the following rubric:\n",
        "\n",
        "| Criterion                 | Points |\n",
        "| ------------------------- | ------ |\n",
        "| Results - Challenge 1     | 7      |\n",
        "| Results - Challenge 2     | 5      |\n",
        "| Results - Challenge 3     | 3      |\n",
        "| Presentation (code, text) | 5      |\n"
      ]
    },
    {
      "cell_type": "code",
      "execution_count": null,
      "id": "7520033a",
      "metadata": {
        "id": "7520033a"
      },
      "outputs": [],
      "source": []
    }
  ],
  "metadata": {
    "colab": {
      "provenance": []
    },
    "kernelspec": {
      "display_name": "Python 3.10.6 ('jupyter-arm')",
      "language": "python",
      "name": "python3"
    },
    "language_info": {
      "codemirror_mode": {
        "name": "ipython",
        "version": 3
      },
      "file_extension": ".py",
      "mimetype": "text/x-python",
      "name": "python",
      "nbconvert_exporter": "python",
      "pygments_lexer": "ipython3",
      "version": "3.10.6"
    },
    "vscode": {
      "interpreter": {
        "hash": "f47b2a3674e28da48636898f00971520db99eb125bdefd50603c7eb4fdd02a3d"
      }
    }
  },
  "nbformat": 4,
  "nbformat_minor": 5
}
